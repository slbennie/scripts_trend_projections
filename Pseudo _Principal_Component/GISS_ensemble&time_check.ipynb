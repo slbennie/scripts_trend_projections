{
 "cells": [
  {
   "cell_type": "code",
   "execution_count": 9,
   "id": "8e3aa70d-0ba1-4790-9b11-7275fb78a65e",
   "metadata": {},
   "outputs": [],
   "source": [
    "import xarray as xr\n",
    "import numpy as np\n",
    "import matplotlib.pyplot as plt\n",
    "import os\n",
    "import cftime\n",
    "from datetime import datetime\n"
   ]
  },
  {
   "cell_type": "code",
   "execution_count": 10,
   "id": "24d552b6-73cd-4f86-9a60-709ad2dbbf72",
   "metadata": {},
   "outputs": [
    {
     "name": "stdout",
     "output_type": "stream",
     "text": [
      "Experiment:  historical\n",
      "Model: GISS-E2-1-G\n",
      "Experiment:  hist-aer\n",
      "Model: GISS-E2-1-G\n",
      "Experiment:  hist-GHG\n",
      "Model: GISS-E2-1-G\n",
      "Experiment:  hist-sol\n",
      "Model: GISS-E2-1-G\n",
      "Experiment:  hist-totalO3\n",
      "Model: GISS-E2-1-G\n",
      "Experiment:  hist-volc\n",
      "Model: GISS-E2-1-G\n"
     ]
    }
   ],
   "source": [
    "experiment = ['historical','hist-aer', 'hist-GHG', 'hist-sol', 'hist-totalO3', 'hist-volc']\n",
    "log_file = 'time_check/all_exp_time_ensemble_name_check_GISS.txt'\n",
    "    \n",
    "variable = 'psl'\n",
    "season = 'DJF'\n",
    "period = (2015-1850)*12    \n",
    "model = ['GISS-E2-1-G']\n",
    "    \n",
    "with open(log_file, 'w') as f:\n",
    "    f.write(f\"GISS-E2-1-G psl data available of the leader_epesc gws\\n\")\n",
    "    for e in experiment:\n",
    "        print('Experiment: ', e)\n",
    "        f.write(f\"\\nExperiment: {e}\")\n",
    "        for m in model:\n",
    "            print('Model:', m)\n",
    "            \n",
    "            #assigning folder path\n",
    "            folder_path = '/gws/nopw/j04/leader_epesc/CMIP6_SinglForcHistSimul/InterpolatedFlds/psl/'+e+'/'+m+'/'\n",
    "            \n",
    "            #find files and put into list\n",
    "            ens_files = [os.path.join(folder_path, filename) for filename in os.listdir(folder_path) if m in filename]\n",
    "    \n",
    "            #writing model name to log file\n",
    "            number_ens = len(ens_files)\n",
    "            f.write(f\"\\nModel: {m},   Number of Ensembles: {number_ens}\\n\")\n",
    "            ens_discard = 0\n",
    "            \n",
    "            #loop through each file in ens_files\n",
    "            for i in range(0,len(ens_files)):\n",
    "                with xr.open_dataset(ens_files[i]) as ds:\n",
    "                    log_line = f\"Enseble Member: {os.path.basename(ens_files[i])}, Start Year: {ds['time'].values[0]}, End Year: {ds['time'].values[-1]}, Number of time steps:{len(ds['time'])}\\n\"\n",
    "                    f.write(log_line)\n"
   ]
  },
  {
   "cell_type": "code",
   "execution_count": 40,
   "id": "51332ac0-14df-47ed-9416-0364ce6b0cec",
   "metadata": {},
   "outputs": [],
   "source": []
  }
 ],
 "metadata": {
  "kernelspec": {
   "display_name": "Python 3 + Jaspy",
   "language": "python",
   "name": "jaspy"
  },
  "language_info": {
   "codemirror_mode": {
    "name": "ipython",
    "version": 3
   },
   "file_extension": ".py",
   "mimetype": "text/x-python",
   "name": "python",
   "nbconvert_exporter": "python",
   "pygments_lexer": "ipython3",
   "version": "3.11.9"
  }
 },
 "nbformat": 4,
 "nbformat_minor": 5
}
