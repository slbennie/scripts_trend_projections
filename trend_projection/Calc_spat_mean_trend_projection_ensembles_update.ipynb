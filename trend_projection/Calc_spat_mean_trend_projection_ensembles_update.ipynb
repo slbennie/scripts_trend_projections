{
 "cells": [
  {
   "cell_type": "code",
   "execution_count": 71,
   "id": "c1addd5f-6e2a-43fa-82f8-b155037c3a8a",
   "metadata": {},
   "outputs": [],
   "source": [
    "import numpy as np\n",
    "import xarray as xr\n",
    "import matplotlib.pyplot as plt\n",
    "import os\n",
    "import cftime\n",
    "import pandas as pd\n",
    "from datetime import datetime\n",
    "import matplotlib.colors as mcolors\n",
    "from scipy.stats import linregress\n",
    "from eofs.xarray import Eof\n",
    "from eofs.examples import example_data_path\n",
    "\n",
    "#My Functions\n",
    "import importlib\n",
    "import trend_projection_functions2\n",
    "importlib.reload(trend_projection_functions2)\n",
    "from trend_projection_functions2 import get_time_bounds\n",
    "from trend_projection_functions2 import get_models_for_experiment\n",
    "from trend_projection_functions2 import CVDP_EM_crop_NA_sector\n",
    "from trend_projection_functions2 import open_cropNA_unitshPA\n",
    "from trend_projection_functions2 import calculate_spatial_ensemble_mean\n",
    "from trend_projection_functions2 import calculate_seasonal_spatial_ensemble_mean_djf\n",
    "from trend_projection_functions2 import calculate_linear_trend_spat_pattern\n",
    "from trend_projection_functions2 import calculate_regression_map\n",
    "from trend_projection_functions2 import project_onto_regression\n"
   ]
  },
  {
   "cell_type": "code",
   "execution_count": 61,
   "id": "46a8a557-210d-4e57-802f-60572cc7c3d0",
   "metadata": {},
   "outputs": [],
   "source": [
    "#!jupyter nbconvert --to script trend_projection_functions2.ipynb\n"
   ]
  },
  {
   "cell_type": "code",
   "execution_count": 62,
   "id": "348a25ba-8e9b-4118-8760-746dd5c0239d",
   "metadata": {},
   "outputs": [
    {
     "data": {
      "text/plain": [
       "'era5 done'"
      ]
     },
     "execution_count": 62,
     "metadata": {},
     "output_type": "execute_result"
    }
   ],
   "source": [
    "#calculating the regression map for ERA5.\n",
    "era5 = ['/gws/nopw/j04/extant/users/slbennie/psl_anomalies/era5/era5_DJF_anomalies_1940-2024.nc']\n",
    "period = '1940-2024'\n",
    "modes = ['NAO','EA']\n",
    "cropped = open_cropNA_unitshPA(era5[0])\n",
    "\n",
    "calculate_regression_map(era5, modes[0], 'historical', 'era5', period, individual=True)\n",
    "calculate_regression_map(era5, modes[1], 'historical', 'era5', period, individual=True)"
   ]
  },
  {
   "cell_type": "code",
   "execution_count": 72,
   "id": "bc64a8e7-44fa-434b-8146-43885007d43a",
   "metadata": {},
   "outputs": [
    {
     "name": "stdout",
     "output_type": "stream",
     "text": [
      "Calculating the regression map for model: HadGEM3-GC31-LL\n",
      "['/gws/nopw/j04/extant/users/slbennie/psl_anomalies/historical/HadGEM3-GC31-LL/psl_mon_historical_HadGEM3-GC31-LL_r11i1p1f3_DJF_anomaly.nc']\n",
      "Calculating the spatial ensemble means and trends for model: HadGEM3-GC31-LL\n",
      "Experiment: historical\n",
      "Calculating the ensemble mean\n",
      "saved\n",
      "Calculating the seasonal DJF spatial ensemble mean\n",
      "in function\n",
      "saved file\n",
      "/gws/nopw/j04/extant/users/slbennie/ens_mean_spat/psl/historical/HadGEM3-GC31-LL/psl_mon_historical_HadGEM3-GC31-LL_spatial_DJF_EM_1850-2015.nc /gws/nopw/j04/extant/users/slbennie/ens_mean_spat/psl/historical/HadGEM3-GC31-LL/psl_mon_historical_HadGEM3-GC31-LL_spatial_DJF_EM_1850-2015.nc\n",
      "Calculating the projection of the forced trend onto historical regression map calculated from all ensembles: historical\n"
     ]
    }
   ],
   "source": [
    "#notes find a way to update period so its nicer.\n",
    "#also could fix folder so that I use like a home dir etc.\n",
    "#anomalies have already been calculated separetly for each model so preusming they are all correct this should run?...\n",
    "home = '/gws/nopw/j04/extant/users/slbennie/'\n",
    "\n",
    "\n",
    "variable = 'psl'\n",
    "period = '1850-2015'\n",
    "experiments = ['historical']#['historical', 'hist-aer', 'hist-GHG', 'hist-sol','hist-totalO3','hist-volc']\n",
    "model = ['HadGEM3-GC31-LL']\n",
    "modes = ['NAO', 'EA']\n",
    "seas = 'DJF'\n",
    "\n",
    "for m in model:\n",
    "    #REGRESSION MAPS\n",
    "    print('Calculating the regression map for model:', m)\n",
    "    #path to the folder containing historical experiment and model's psl anomalies (calculated seperatley)\n",
    "    folder_path = f'{home}psl_anomalies/historical/{m}/'\n",
    "\n",
    "    #creating the list of files for this experiment and model's psl anomalies\n",
    "    ens_files = [os.path.join(folder_path, filename) for filename in os.listdir(folder_path) if m in filename and '_EM' not in filename and 'r11i1p1f3' in filename]\n",
    "    print(ens_files)\n",
    "\n",
    "    #calculate_regression_map(ens_files, modes[0], 'historical', m, period, individual=True)\n",
    "    #calculate_regression_map(ens_files, modes[1], 'historical', m, period, individual=True)\n",
    "\n",
    "    #opening historical regression maps for use later - one per model. Use historical for all experiments.\n",
    "    #regression_NAO = xr.open_dataset(f'{home}regression_patterns/{modes[0]}/historical/{m}/{variable}_mon_historical_{m}_{seas}_{modes[0]}_regression_map_{period}.nc')\n",
    "    #regression_EA = xr.open_dataset(f'{home}regression_patterns/{modes[1]}/historical/{m}/{variable}_mon_historical_{m}_{seas}_{modes[1]}_regression_map_{period}.nc')\n",
    "\n",
    "    \n",
    "    for e in experiments:\n",
    "        #ENSEMBLE MEANS\n",
    "        print('Calculating the spatial ensemble means and trends for model:', m)\n",
    "        print('Experiment:', e)\n",
    "        #getting the LESFMIP file paths\n",
    "        folder_path = f'/gws/nopw/j04/leader_epesc/CMIP6_SinglForcHistSimul/InterpolatedFlds/psl/{e}/{m}/'\n",
    "        file_paths = [os.path.join(folder_path, filename) for filename in os.listdir(folder_path) if e in filename and m in filename and 'r11i1p1f3' in filename]\n",
    "\n",
    "        #creating output files for the mean across ensembles and the djf mean\n",
    "        ens_mean_file = f'{home}ens_mean_spat/psl/{e}/{m}/{variable}_mon_{e}_{m}_spatial_EM.nc'\n",
    "        ens_mean_djf_file = ens_mean_file.replace('spatial_EM', 'spatial_'+seas+'_EM_'+period)\n",
    "        \n",
    "        #find spatial mean across the ensembles\n",
    "        print('Calculating the ensemble mean')\n",
    "        calculate_spatial_ensemble_mean(file_paths, ens_mean_file, variable)\n",
    "\n",
    "        #To use once spatial ensemble mean is calculated\n",
    "        print(f'Calculating the seasonal {seas} spatial ensemble mean')\n",
    "        calculate_seasonal_spatial_ensemble_mean_djf(ens_mean_file, variable, seas, ens_mean_djf_file, 1850, 2015)\n",
    "\n",
    "\n",
    "        #LINEAR TREND\n",
    "        #find the file for the ensemble spatial mean djf\n",
    "        folder_path = f'{home}ens_mean_spat/psl/{e}/{m}/'\n",
    "\n",
    "        #selecting file with the correct seas and period\n",
    "        file_path = [os.path.join(folder_path, filename) for filename in os.listdir(folder_path) if seas in filename and period in filename][0]\n",
    "        print(file_path, ens_mean_djf_file)\n",
    "        output_file = f'{home}trend_calc_LESFMIP/linear_regression/NAO/{e}/{m}/{variable}_mon_{e}_{m}_{seas}_linear_trend_{period}_stats.nc'\n",
    "    \n",
    "        calculate_linear_trend_spat_pattern(file_path, variable, output_file)\n",
    "\n",
    "\n",
    "        #PROJECTION\n",
    "        print(\"Calculating the projection of the forced trend onto historical regression map calculated from all ensembles:\", e)\n",
    "        \n",
    "        #now setting up the folder path to get the file names for each experiment's model's forced response's trend\n",
    "        folder_path = f'{home}trend_calc_LESFMIP/linear_regression/NAO/{e}/{m}/'\n",
    "            \n",
    "        #Getting the list of file names within the models folder, should only be one trend per model (working off the ensemble means for each model)\n",
    "        ens_files = [os.path.join(folder_path, filename) for filename in os.listdir(folder_path) if m in filename and period in filename]\n",
    "        #print(ens_files[0], len(ens_files), output_file)\n",
    "            \n",
    "        for i in range(0,len(ens_files)):\n",
    "            #cropping each trend to just the NA sector and whichever time\n",
    "            trend = open_cropNA_unitshPA(ens_files[i])#, 1850,2014)\n",
    "    \n",
    "            #multiplying the trend by 165 to convert to units of hPa (currently in units of hPa/year, trend calculated between 1850-2015)\n",
    "            trend = trend * 165\n",
    "            \n",
    "            #calling the projection functions\n",
    "            #proj_NAO, residual_NAO = project_onto_regression(trend, regression_NAO['regression_NAO_djf'], 'slope', 'NAO', e, m, period)\n",
    "            #proj_EA, residual_EA = project_onto_regression(residual_NAO, regression_EA['regression_EA_djf'], 'residual_NAO_djf', 'EA', e, m, period)\n",
    "        "
   ]
  },
  {
   "cell_type": "code",
   "execution_count": 8,
   "id": "5255de02-fde5-4861-9cda-76080ebba784",
   "metadata": {},
   "outputs": [
    {
     "name": "stdout",
     "output_type": "stream",
     "text": [
      "Calculating the regression map for model: CanESM5\n",
      "calculating the mean regression map\n",
      "calculating the mean regression map\n"
     ]
    },
    {
     "ename": "KeyError",
     "evalue": "\"No variable named 'psl'. Variables on the dataset include ['regression_NAO_djf', 'lat', 'lon', 'season', 'mode']\"",
     "output_type": "error",
     "traceback": [
      "\u001b[31m---------------------------------------------------------------------------\u001b[39m",
      "\u001b[31mKeyError\u001b[39m                                  Traceback (most recent call last)",
      "\u001b[32m/opt/jaspy/lib/python3.12/site-packages/xarray/core/dataset.py\u001b[39m in \u001b[36m?\u001b[39m\u001b[34m(self, name)\u001b[39m\n\u001b[32m   1154\u001b[39m             variable = self._variables[name]\n\u001b[32m   1155\u001b[39m         \u001b[38;5;28;01mexcept\u001b[39;00m KeyError:\n\u001b[32m-> \u001b[39m\u001b[32m1156\u001b[39m             _, name, variable = _get_virtual_variable(self._variables, name, self.sizes)\n\u001b[32m   1157\u001b[39m \n",
      "\u001b[31mKeyError\u001b[39m: 'psl'",
      "\nDuring handling of the above exception, another exception occurred:\n",
      "\u001b[31mKeyError\u001b[39m                                  Traceback (most recent call last)",
      "\u001b[36mFile \u001b[39m\u001b[32m/opt/jaspy/lib/python3.12/site-packages/xarray/core/dataset.py:1261\u001b[39m, in \u001b[36mDataset.__getitem__\u001b[39m\u001b[34m(self, key)\u001b[39m\n\u001b[32m   1260\u001b[39m \u001b[38;5;28;01mtry\u001b[39;00m:\n\u001b[32m-> \u001b[39m\u001b[32m1261\u001b[39m     \u001b[38;5;28;01mreturn\u001b[39;00m \u001b[38;5;28;43mself\u001b[39;49m\u001b[43m.\u001b[49m\u001b[43m_construct_dataarray\u001b[49m\u001b[43m(\u001b[49m\u001b[43mkey\u001b[49m\u001b[43m)\u001b[49m\n\u001b[32m   1262\u001b[39m \u001b[38;5;28;01mexcept\u001b[39;00m \u001b[38;5;167;01mKeyError\u001b[39;00m \u001b[38;5;28;01mas\u001b[39;00m e:\n",
      "\u001b[36mFile \u001b[39m\u001b[32m/opt/jaspy/lib/python3.12/site-packages/xarray/core/dataset.py:1156\u001b[39m, in \u001b[36mDataset._construct_dataarray\u001b[39m\u001b[34m(self, name)\u001b[39m\n\u001b[32m   1155\u001b[39m \u001b[38;5;28;01mexcept\u001b[39;00m \u001b[38;5;167;01mKeyError\u001b[39;00m:\n\u001b[32m-> \u001b[39m\u001b[32m1156\u001b[39m     _, name, variable = \u001b[43m_get_virtual_variable\u001b[49m\u001b[43m(\u001b[49m\u001b[38;5;28;43mself\u001b[39;49m\u001b[43m.\u001b[49m\u001b[43m_variables\u001b[49m\u001b[43m,\u001b[49m\u001b[43m \u001b[49m\u001b[43mname\u001b[49m\u001b[43m,\u001b[49m\u001b[43m \u001b[49m\u001b[38;5;28;43mself\u001b[39;49m\u001b[43m.\u001b[49m\u001b[43msizes\u001b[49m\u001b[43m)\u001b[49m\n\u001b[32m   1158\u001b[39m needed_dims = \u001b[38;5;28mset\u001b[39m(variable.dims)\n",
      "\u001b[36mFile \u001b[39m\u001b[32m/opt/jaspy/lib/python3.12/site-packages/xarray/core/dataset_utils.py:79\u001b[39m, in \u001b[36m_get_virtual_variable\u001b[39m\u001b[34m(variables, key, dim_sizes)\u001b[39m\n\u001b[32m     78\u001b[39m \u001b[38;5;28;01mif\u001b[39;00m \u001b[38;5;28mlen\u001b[39m(split_key) != \u001b[32m2\u001b[39m:\n\u001b[32m---> \u001b[39m\u001b[32m79\u001b[39m     \u001b[38;5;28;01mraise\u001b[39;00m \u001b[38;5;167;01mKeyError\u001b[39;00m(key)\n\u001b[32m     81\u001b[39m ref_name, var_name = split_key\n",
      "\u001b[31mKeyError\u001b[39m: 'psl'",
      "\nThe above exception was the direct cause of the following exception:\n",
      "\u001b[31mKeyError\u001b[39m                                  Traceback (most recent call last)",
      "\u001b[32m/tmp/ipykernel_2643/2472407148.py\u001b[39m in \u001b[36m?\u001b[39m\u001b[34m()\u001b[39m\n\u001b[32m     24\u001b[39m     folder = f'{home}regression_patterns/{modes[\u001b[32m0\u001b[39m]}/historical/{m}/'\n\u001b[32m     25\u001b[39m \n\u001b[32m     26\u001b[39m     ens_files = [os.path.join(folder, filename) \u001b[38;5;28;01mfor\u001b[39;00m filename \u001b[38;5;28;01min\u001b[39;00m os.listdir(folder) \u001b[38;5;28;01mif\u001b[39;00m \u001b[33m'regression_map'\u001b[39m \u001b[38;5;28;01min\u001b[39;00m filename]\n\u001b[32m     27\u001b[39m \n\u001b[32m---> \u001b[39m\u001b[32m28\u001b[39m     calculate_regression_map(ens_files, modes[\u001b[32m0\u001b[39m], \u001b[33m'historical'\u001b[39m, m, period, individual=\u001b[38;5;28;01mFalse\u001b[39;00m)\n\u001b[32m     29\u001b[39m     calculate_regression_map(ens_files, modes[\u001b[32m1\u001b[39m], \u001b[33m'historical'\u001b[39m, m, period, individual=\u001b[38;5;28;01mFalse\u001b[39;00m)\n\u001b[32m     30\u001b[39m \n",
      "\u001b[32m/tmp/ipykernel_2643/3956777782.py\u001b[39m in \u001b[36m?\u001b[39m\u001b[34m(anomalies, mode, e, m, period, era5, individual)\u001b[39m\n\u001b[32m     90\u001b[39m         mean_EOF.to_netcdf(output_EOF)\n\u001b[32m     91\u001b[39m \n\u001b[32m     92\u001b[39m \n\u001b[32m     93\u001b[39m     \u001b[38;5;28;01melse\u001b[39;00m:\n\u001b[32m---> \u001b[39m\u001b[32m94\u001b[39m         all_anomalies = xr.concat(anomaly_list, dim=\u001b[33m'ensemble'\u001b[39m)[\u001b[33m'psl'\u001b[39m]  \u001b[38;5;66;03m# (ensemble, year, lat, lon)\u001b[39;00m\n\u001b[32m     95\u001b[39m         all_anomalies_stacked = all_anomalies.stack(time=(\u001b[33m'ensemble'\u001b[39m, \u001b[33m'year'\u001b[39m)).reset_index(\u001b[33m'time'\u001b[39m, drop=\u001b[38;5;28;01mTrue\u001b[39;00m)\n\u001b[32m     96\u001b[39m         all_anomalies_stacked = all_anomalies_stacked.transpose(\u001b[33m'time'\u001b[39m, \u001b[33m'lat'\u001b[39m, \u001b[33m'lon'\u001b[39m)\n\u001b[32m     97\u001b[39m \n",
      "\u001b[32m/opt/jaspy/lib/python3.12/site-packages/xarray/core/dataset.py\u001b[39m in \u001b[36m?\u001b[39m\u001b[34m(self, key)\u001b[39m\n\u001b[32m   1270\u001b[39m \n\u001b[32m   1271\u001b[39m                 \u001b[38;5;66;03m# If someone attempts `ds['foo' , 'bar']` instead of `ds[['foo', 'bar']]`\u001b[39;00m\n\u001b[32m   1272\u001b[39m                 \u001b[38;5;28;01mif\u001b[39;00m isinstance(key, tuple):\n\u001b[32m   1273\u001b[39m                     message += f\"\\nHint: use a list to select multiple variables, for example `ds[{list(key)}]`\"\n\u001b[32m-> \u001b[39m\u001b[32m1274\u001b[39m                 \u001b[38;5;28;01mraise\u001b[39;00m KeyError(message) \u001b[38;5;28;01mfrom\u001b[39;00m e\n\u001b[32m   1275\u001b[39m \n\u001b[32m   1276\u001b[39m         \u001b[38;5;28;01mif\u001b[39;00m utils.iterable_of_hashable(key):\n\u001b[32m   1277\u001b[39m             \u001b[38;5;28;01mreturn\u001b[39;00m self._copy_listed(key)\n",
      "\u001b[31mKeyError\u001b[39m: \"No variable named 'psl'. Variables on the dataset include ['regression_NAO_djf', 'lat', 'lon', 'season', 'mode']\""
     ]
    }
   ],
   "source": [
    "home = '/gws/nopw/j04/extant/users/slbennie/'\n",
    "\n",
    "\n",
    "variable = 'psl'\n",
    "period = '1850-2015'\n",
    "#experiments = ['historical', 'hist-aer', 'hist-GHG', 'hist-sol','hist-totalO3','hist-volc']\n",
    "model = ['CanESM5']\n",
    "modes = ['NAO','EA']\n",
    "seas = 'DJF'\n",
    "\n",
    "for m in model:\n",
    "    #REGRESSION MAPS\n",
    "    print('Calculating the regression map for model:', m)\n",
    "    #path to the folder containing historical experiment and model's psl anomalies (calculated seperatley)\n",
    "    folder_path = f'{home}psl_anomalies/historical/{m}/'\n",
    "\n",
    "    #creating the list of files for this experiment and model's psl anomalies\n",
    "    ens_files = [os.path.join(folder_path, filename) for filename in os.listdir(folder_path) if m in filename and '_EM' not in filename and 'r1i1p1f1' in filename]\n",
    "\n",
    "    calculate_regression_map(ens_files, modes[0], 'historical', m, period, individual=True)\n",
    "    calculate_regression_map(ens_files, modes[1], 'historical', m, period, individual=True)\n",
    "\n",
    "    #calculate_regression_map(ens_files, modes[0], 'historical', m, period, individual=False)\n",
    "    #calculate_regression_map(ens_files, modes[1], 'historical', m, period, individual=False)\n",
    "    "
   ]
  },
  {
   "cell_type": "code",
   "execution_count": 6,
   "id": "4250b2d3-74cf-40d4-aec8-d0c7a9e0ae65",
   "metadata": {},
   "outputs": [
    {
     "data": {
      "image/png": "[encoded data removed]",
      "text/plain": [
       "<Figure size 640x480 with 2 Axes>"
      ]
     },
     "metadata": {},
     "output_type": "display_data"
    }
   ],
   "source": [
    "#EA_reg = xr.open_dataset('/gws/nopw/j04/extant/users/slbennie/regression_patterns/EA/historical/CanESM5/psl_mon_historical_CanESM5_r11i1p1f1_DJF_EA_regression_map_1850-2015.nc')\n",
    "#EA_reg_mean = xr.open_dataset('/gws/nopw/j04/extant/users/slbennie/regression_patterns/EA/historical/CanESM5/psl_mon_historical_CanESM5_DJF_EA_regression_map_1850-2015.nc')\n",
    "\n",
    "NAO_reg = xr.open_dataset('/gws/nopw/j04/extant/users/slbennie/regression_patterns/NAO/historical/CanESM5/psl_mon_historical_CanESM5_r11i1p1f1_DJF_NAO_regression_map_1850-2015.nc')\n",
    "#NAO_reg_mean = xr.open_dataset('/gws/nopw/j04/extant/users/slbennie/regression_patterns/NAO/historical/CanESM5/psl_mon_historical_CanESM5_DJF_NAO_regression_map_1850-2015.nc')\n",
    "\n",
    "#EA_reg['regression_EA_djf'].plot()\n",
    "#plt.show()\n",
    "#EA_reg_mean['regression_EA_djf'].plot()\n",
    "#plt.show()\n",
    "#(EA_reg['regression_EA_djf']-EA_reg_mean['regression_EA_djf']).plot()\n",
    "#plt.show()\n",
    "\n",
    "NAO_reg['regression_NAO_djf'].plot()\n",
    "plt.show()\n",
    "#NAO_reg_mean['regression_NAO_djf'].plot()\n",
    "#plt.show()\n",
    "#(NAO_reg['regression_NAO_djf']-NAO_reg_mean['regression_NAO_djf']).plot()\n",
    "#plt.show()"
   ]
  },
  {
   "cell_type": "code",
   "execution_count": null,
   "id": "6f5bbf5c-68ea-4251-88e3-e2cced404b1a",
   "metadata": {},
   "outputs": [],
   "source": []
  }
 ],
 "metadata": {
  "kernelspec": {
   "display_name": "Python 3 + Jaspy",
   "language": "python",
   "name": "jaspy"
  },
  "language_info": {
   "codemirror_mode": {
    "name": "ipython",
    "version": 3
   },
   "file_extension": ".py",
   "mimetype": "text/x-python",
   "name": "python",
   "nbconvert_exporter": "python",
   "pygments_lexer": "ipython3",
   "version": "3.12.11"
  }
 },
 "nbformat": 4,
 "nbformat_minor": 5
}
