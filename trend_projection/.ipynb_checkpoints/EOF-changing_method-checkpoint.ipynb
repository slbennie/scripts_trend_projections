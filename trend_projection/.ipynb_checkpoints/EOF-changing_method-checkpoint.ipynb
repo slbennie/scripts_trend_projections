{
 "cells": [
  {
   "cell_type": "code",
   "execution_count": 10,
   "id": "c1addd5f-6e2a-43fa-82f8-b155037c3a8a",
   "metadata": {},
   "outputs": [],
   "source": [
    "import numpy as np\n",
    "import xarray as xr\n",
    "import matplotlib.pyplot as plt\n",
    "import os\n",
    "import cftime\n",
    "import pandas as pd\n",
    "from datetime import datetime\n",
    "import matplotlib.colors as mcolors\n",
    "from scipy.stats import linregress\n",
    "from eofs.xarray import Eof\n",
    "from eofs.examples import example_data_path\n",
    "\n",
    "#My Functions\n",
    "import importlib\n",
    "import trend_projection_functions_new_method\n",
    "importlib.reload(trend_projection_functions_new_method)\n",
    "from trend_projection_functions_new_method import get_time_bounds\n",
    "from trend_projection_functions_new_method import get_models_for_experiment\n",
    "from trend_projection_functions_new_method import CVDP_EM_crop_NA_sector#\n",
    "from trend_projection_functions_new_method import open_cropNA_unitshPA\n",
    "from trend_projection_functions_new_method import calculate_spatial_ensemble_mean\n",
    "from trend_projection_functions_new_method import calculate_seasonal_spatial_ensemble_mean_djf\n",
    "from trend_projection_functions_new_method import calculate_linear_trend_spat_pattern\n",
    "from trend_projection_functions_new_method import calculate_regression_map\n",
    "from trend_projection_functions_new_method import project_onto_regression\n"
   ]
  },
  {
   "cell_type": "code",
   "execution_count": 2,
   "id": "46a8a557-210d-4e57-802f-60572cc7c3d0",
   "metadata": {},
   "outputs": [],
   "source": [
    "#!jupyter nbconvert --to script Calc_spat_mean_trend_projection_ensembles_update.ipynb\n"
   ]
  },
  {
   "cell_type": "code",
   "execution_count": 29,
   "id": "e47fe4ca-3881-441c-b5b4-3be55f5d970e",
   "metadata": {},
   "outputs": [
    {
     "name": "stdout",
     "output_type": "stream",
     "text": [
      "<xarray.Dataset> Size: 84MB\n",
      "Dimensions:  (lat: 241, year: 84, lon: 521)\n",
      "Coordinates:\n",
      "  * lat      (lat) float32 964B 20.0 20.25 20.5 20.75 ... 79.25 79.5 79.75 80.0\n",
      "  * year     (year) int64 672B 1940 1941 1942 1943 1944 ... 2020 2021 2022 2023\n",
      "    season   <U3 12B ...\n",
      "  * lon      (lon) float32 2kB -90.0 -89.75 -89.5 -89.25 ... 39.5 39.75 40.0\n",
      "Data variables:\n",
      "    psl      (year, lat, lon) float64 84MB 0.01345 -0.0002401 ... -2.908 -2.869\n",
      "calculating indiv reg maps\n",
      "EA\n",
      "/gws/nopw/j04/extant/users/slbennie/regression_patterns/EA/era5/era5_DJF_EA_regression_map_1940-2024.nc\n",
      "Era5 done\n"
     ]
    },
    {
     "data": {
      "text/plain": [
       "'era5 done'"
      ]
     },
     "execution_count": 29,
     "metadata": {},
     "output_type": "execute_result"
    }
   ],
   "source": [
    "#calculating the regression map for ERA5.\n",
    "era5 = ['/gws/nopw/j04/extant/users/slbennie/psl_anomalies/era5/era5_DJF_anomalies_1940-2024.nc']\n",
    "period = '1940-2024'\n",
    "modes = ['NAO','EA']\n",
    "cropped = open_cropNA_unitshPA(era5[0])\n",
    "print(cropped)\n",
    "\n",
    "#calculate_regression_map(era5, modes[0], 'historical', 'era5', period, individual=True)\n",
    "calculate_regression_map(era5, modes[1], 'historical', 'era5', period, individual=True)"
   ]
  },
  {
   "cell_type": "code",
   "execution_count": 30,
   "id": "348a25ba-8e9b-4118-8760-746dd5c0239d",
   "metadata": {},
   "outputs": [
    {
     "name": "stdout",
     "output_type": "stream",
     "text": [
      "<xarray.DataArray (year: 76, latitude: 721, longitude: 1440)> Size: 631MB\n",
      "array([[[ 5.54167294e+02,  5.54167294e+02,  5.54167294e+02, ...,\n",
      "          5.54167294e+02,  5.54167294e+02,  5.54167294e+02],\n",
      "        [ 5.39441250e+02,  5.39391490e+02,  5.39333954e+02, ...,\n",
      "          5.39549480e+02,  5.39508116e+02,  5.39471418e+02],\n",
      "        [ 5.34341405e+02,  5.34215138e+02,  5.34249659e+02, ...,\n",
      "          5.34544180e+02,  5.34533606e+02,  5.34450257e+02],\n",
      "        ...,\n",
      "        [ 4.71455758e+02,  4.71250806e+02,  4.71119873e+02, ...,\n",
      "          4.71727264e+02,  4.71591977e+02,  4.71505518e+02],\n",
      "        [ 4.64321324e+02,  4.64295510e+02,  4.64182616e+02, ...,\n",
      "          4.64562974e+02,  4.64457855e+02,  4.64415247e+02],\n",
      "        [ 4.59367962e+02,  4.59367962e+02,  4.59367962e+02, ...,\n",
      "          4.59367962e+02,  4.59367962e+02,  4.59367962e+02]],\n",
      "\n",
      "       [[ 7.21063282e+02,  7.21063282e+02,  7.21063282e+02, ...,\n",
      "          7.21063282e+02,  7.21063282e+02,  7.21063282e+02],\n",
      "        [ 6.89508186e+02,  6.89576606e+02,  6.89637252e+02, ...,\n",
      "          6.89167325e+02,  6.89291416e+02,  6.89420171e+02],\n",
      "        [ 6.80744712e+02,  6.80996626e+02,  6.81172965e+02, ...,\n",
      "          6.80214762e+02,  6.80369642e+02,  6.80617201e+02],\n",
      "...\n",
      "         -1.55651324e+02, -1.55621157e+02, -1.55589435e+02],\n",
      "        [-1.49088205e+02, -1.49066746e+02, -1.49014186e+02, ...,\n",
      "         -1.49106554e+02, -1.49069856e+02, -1.49088827e+02],\n",
      "        [-1.42270685e+02, -1.42270685e+02, -1.42270685e+02, ...,\n",
      "         -1.42270685e+02, -1.42270685e+02, -1.42270685e+02]],\n",
      "\n",
      "       [[-2.11168664e+01, -2.11168664e+01, -2.11168664e+01, ...,\n",
      "         -2.11168664e+01, -2.11168664e+01, -2.11168664e+01],\n",
      "        [-2.10938521e+01, -2.11436127e+01, -2.11302395e+01, ...,\n",
      "         -2.11274405e+01, -2.10978951e+01, -2.11345936e+01],\n",
      "        [-2.49173363e+01, -2.49017861e+01, -2.49381736e+01, ...,\n",
      "         -2.49981973e+01, -2.50087715e+01, -2.49503027e+01],\n",
      "        ...,\n",
      "        [-5.32118348e+02, -5.32110573e+02, -5.32028779e+02, ...,\n",
      "         -5.32343204e+02, -5.32265764e+02, -5.32210406e+02],\n",
      "        [-5.38685511e+02, -5.38640415e+02, -5.38540583e+02, ...,\n",
      "         -5.38798405e+02, -5.38761707e+02, -5.38733405e+02],\n",
      "        [-5.51084310e+02, -5.51084310e+02, -5.51084310e+02, ...,\n",
      "         -5.51084310e+02, -5.51084310e+02, -5.51084310e+02]]],\n",
      "      shape=(76, 721, 1440))\n",
      "Coordinates:\n",
      "  * longitude  (longitude) float32 6kB 0.0 0.25 0.5 0.75 ... 359.2 359.5 359.8\n",
      "  * latitude   (latitude) float32 3kB 90.0 89.75 89.5 ... -89.5 -89.75 -90.0\n",
      "  * year       (year) int64 608B 1940 1941 1942 1943 ... 2012 2013 2014 2015\n",
      "calculating indiv reg maps\n",
      "NAO\n",
      "/gws/nopw/j04/extant/users/slbennie/regression_patterns/NAO/era5/detrended_era5_DJF_NAO_regression_map_1940-2024\n",
      "Era5 done\n",
      "calculating indiv reg maps\n",
      "EA\n",
      "/gws/nopw/j04/extant/users/slbennie/regression_patterns/EA/era5/detrended_era5_DJF_EA_regression_map_1940-2024\n",
      "Era5 done\n"
     ]
    },
    {
     "data": {
      "text/plain": [
       "'era5 done'"
      ]
     },
     "execution_count": 30,
     "metadata": {},
     "output_type": "execute_result"
    }
   ],
   "source": [
    "\n",
    "\n",
    "reg = xr.open_dataset('/gws/nopw/j04/extant/users/slbennie/trend_calc_LESFMIP/linear_regression/NAO/era5/msl_mon_era5_DJF_linear_trend_1850-2015_stats.nc')\n",
    "#reg in Pa per year?\n",
    "era5 = xr.open_dataset('/gws/nopw/j04/extant/users/slbennie/era5/era5_djf.194001-202406.nc')\n",
    "\n",
    "diff = era5['msl'] - reg['slope']\n",
    "diff_anom = diff - diff.mean(dim='year')\n",
    "print(diff_anom)\n",
    "\n",
    "diff_anom_ds = diff_anom.to_dataset(name='psl')\n",
    "diff_anom_ds = diff_anom_ds.rename({'latitude': 'lat', 'longitude': 'lon'})\n",
    "diff_anom_ds = diff_anom_ds.assign_coords(\n",
    "    lon=((diff_anom_ds.lon + 180) % 360) - 180\n",
    ").sortby('lon')\n",
    "diff_anom_ds = diff_anom_ds.sortby('lat')\n",
    "\n",
    "diff_anom_path = '/gws/nopw/j04/extant/users/slbennie/psl_anomalies/era5/detrended_era5_DJF_anomalies_1940-2024'\n",
    "diff_anom_ds.to_netcdf(diff_anom_path)\n",
    "\n",
    "\n",
    "calculate_regression_map([diff_anom_path], modes[0], 'historical', 'era5', period, individual=True)\n",
    "calculate_regression_map([diff_anom_path], modes[1], 'historical', 'era5', period, individual=True)"
   ]
  },
  {
   "cell_type": "code",
   "execution_count": null,
   "id": "bca95d11-bf34-426e-8a68-2606faaf81e3",
   "metadata": {},
   "outputs": [],
   "source": [
    "era5_detrend = xr.open_dataset('/gws/nopw/j04/extant/users/slbennie/regression_patterns/NAO/era5/')"
   ]
  },
  {
   "cell_type": "code",
   "execution_count": 19,
   "id": "bc64a8e7-44fa-434b-8146-43885007d43a",
   "metadata": {},
   "outputs": [
    {
     "name": "stdout",
     "output_type": "stream",
     "text": [
      "['HadGEM3-GC31-LL']\n",
      "Calculating the regression map for model: HadGEM3-GC31-LL\n",
      "Calculating the projection of the forced trend onto historical regression map calculated from all ensembles: historical\n",
      "here\n",
      "doing some calcs\n",
      "doing some calcs\n",
      "here\n",
      "doing some calcs\n",
      "doing some calcs\n"
     ]
    }
   ],
   "source": [
    "#notes find a way to update period so its nicer.\n",
    "#also could fix folder so that I use like a home dir etc.\n",
    "#anomalies have already been calculated separetly for each model so preusming they are all correct this should run?...\n",
    "home = '/gws/nopw/j04/extant/users/slbennie/'\n",
    "\n",
    "\n",
    "variable = 'psl'\n",
    "period = '1850-2015'\n",
    "experiments = ['historical']#, 'hist-aer','hist-GHG']#, 'hist-sol', 'hist-vol']\n",
    "model = ['HadGEM3-GC31-LL']\n",
    "modes = ['NAO', 'EA']\n",
    "seas = 'DJF'\n",
    "\n",
    "\n",
    "for e in experiments:\n",
    "    #model = get_models_for_experiment(e)\n",
    "    print(model)\n",
    "    for m in model:\n",
    "        if e == 'historical':\n",
    "            #REGRESSION MAPS\n",
    "            print('Calculating the regression map for model:', m)\n",
    "            \n",
    "            #path to the folder containing historical experiment and model's psl anomalies (calculated seperatly)\n",
    "#            folder_path = f'{home}psl_anomalies/historical/{m}/'\n",
    "        \n",
    "            #creating the list of files for this experiment and model's psl anomalies\n",
    "#            ens_files = [os.path.join(folder_path, filename) for filename in os.listdir(folder_path) if m in filename and '_EM' not in filename]\n",
    "            #print(ens_files)\n",
    "            \n",
    "#            calculate_regression_map(ens_files, modes[0], 'historical', m, period, individual=True)\n",
    "        \n",
    "        #opening historical regression maps (mean) for use later - one per model. Use historical for all experiments.\n",
    "        regression_NAO = xr.open_dataset(f'{home}regression_patterns/{modes[0]}/historical/{m}/{variable}_mon_historical_{m}_{seas}_{modes[0]}_EOF_pattern_{period}.nc')\n",
    "        regression_EA = xr.open_dataset(f'{home}regression_patterns/{modes[1]}/historical/{m}/{variable}_mon_historical_{m}_{seas}_{modes[1]}_EOF_pattern_{period}.nc')\n",
    "\n",
    "        #ENSEMBLE MEANS\n",
    "#        print('Calculating the spatial ensemble means and trends for model:', m)\n",
    "#        print('Experiment:', e)\n",
    "        #getting the LESFMIP file paths\n",
    "#        folder_path = f'/gws/nopw/j04/leader_epesc/CMIP6_SinglForcHistSimul/InterpolatedFlds/psl/{e}/{m}/'\n",
    "#        file_paths = [os.path.join(folder_path, filename) for filename in os.listdir(folder_path) if e in filename and m in filename]\n",
    "\n",
    "        #creating output files for the mean across ensembles and the djf mean\n",
    "#        ens_mean_file = f'{home}ens_mean_spat/psl/{e}/{m}/{variable}_mon_{e}_{m}_spatial_EM.nc'\n",
    "#        ens_mean_djf_file = ens_mean_file.replace('spatial_EM', 'spatial_'+seas+'_EM_'+period)\n",
    "        \n",
    "        #find spatial mean across the ensembles\n",
    "#        print('Calculating the ensemble mean')\n",
    "#        calculate_spatial_ensemble_mean(file_paths, ens_mean_file, variable)\n",
    "\n",
    "        #To use once spatial ensemble mean is calculated\n",
    "#        print(f'Calculating the seasonal {seas} spatial ensemble mean')\n",
    "#        calculate_seasonal_spatial_ensemble_mean_djf(ens_mean_file, variable, seas, ens_mean_djf_file, 1850, 2015)\n",
    "\n",
    "\n",
    "        #LINEAR TREND\n",
    "        #find the file for the ensemble spatial mean djf\n",
    "#        folder_path = f'{home}ens_mean_spat/psl/{e}/{m}/'\n",
    "#        print(folder_path)\n",
    "\n",
    "        #selecting file with the correct seas and period\n",
    "#        file_path = [os.path.join(folder_path, filename) for filename in os.listdir(folder_path) if seas in filename and period in filename][0]\n",
    "#        print(file_path)\n",
    "#        output_file = f'{home}trend_calc_LESFMIP/linear_regression/NAO/{e}/{m}/{variable}_mon_{e}_{m}_{seas}_linear_trend_{period}_stats.nc'\n",
    "    \n",
    "#        calculate_linear_trend_spat_pattern(file_path, variable, output_file)\n",
    "\n",
    "\n",
    "        #PROJECTION\n",
    "        print(\"Calculating the projection of the forced trend onto historical regression map calculated from all ensembles:\", e)\n",
    "        \n",
    "        #now setting up the folder path to get the file names for each experiment's model's forced response's trend\n",
    "        folder_path = f'{home}trend_calc_LESFMIP/linear_regression/NAO/{e}/{m}/'\n",
    "            \n",
    "        #Getting the list of file names within the models folder, should only be one trend per model (working off the ensemble means for each model)\n",
    "        ens_files = [os.path.join(folder_path, filename) for filename in os.listdir(folder_path) if m in filename and period in filename]\n",
    "        #print(ens_files[0], len(ens_files), output_file)\n",
    "            \n",
    "        for i in range(0,len(ens_files)):\n",
    "            #cropping each trend to just the NA sector and whichever time\n",
    "            trend = open_cropNA_unitshPA(ens_files[i])#, 1850,2014)\n",
    "    \n",
    "            #multiplying the trend by 165 to convert to units of hPa (currently in units of hPa/year, trend calculated between 1850-2015)\n",
    "            trend = trend * 165\n",
    "            \n",
    "            #calling the projection functions\n",
    "            proj_NAO, residual_NAO = project_onto_regression(trend, regression_NAO['EOF_NAO_djf'], 'slope', 'NAO', e, m, period)\n",
    "            proj_EA, residual_EA = project_onto_regression(residual_NAO, regression_EA['EOF_EA_djf'], 'residual_NAO_djf', 'EA', e, m, period)\n",
    "        "
   ]
  },
  {
   "cell_type": "code",
   "execution_count": 6,
   "id": "4250b2d3-74cf-40d4-aec8-d0c7a9e0ae65",
   "metadata": {},
   "outputs": [
    {
     "data": {
      "image/png": "[encoded data removed]",
      "text/plain": [
       "<Figure size 640x480 with 2 Axes>"
      ]
     },
     "metadata": {},
     "output_type": "display_data"
    }
   ],
   "source": [
    "#EA_reg = xr.open_dataset('/gws/nopw/j04/extant/users/slbennie/regression_patterns/EA/historical/CanESM5/psl_mon_historical_CanESM5_r11i1p1f1_DJF_EA_regression_map_1850-2015.nc')\n",
    "#EA_reg_mean = xr.open_dataset('/gws/nopw/j04/extant/users/slbennie/regression_patterns/EA/historical/CanESM5/psl_mon_historical_CanESM5_DJF_EA_regression_map_1850-2015.nc')\n",
    "\n",
    "NAO_reg = xr.open_dataset('/gws/nopw/j04/extant/users/slbennie/regression_patterns/NAO/historical/CanESM5/psl_mon_historical_CanESM5_r11i1p1f1_DJF_NAO_regression_map_1850-2015.nc')\n",
    "#NAO_reg_mean = xr.open_dataset('/gws/nopw/j04/extant/users/slbennie/regression_patterns/NAO/historical/CanESM5/psl_mon_historical_CanESM5_DJF_NAO_regression_map_1850-2015.nc')\n",
    "\n",
    "#EA_reg['regression_EA_djf'].plot()\n",
    "#plt.show()\n",
    "#EA_reg_mean['regression_EA_djf'].plot()\n",
    "#plt.show()\n",
    "#(EA_reg['regression_EA_djf']-EA_reg_mean['regression_EA_djf']).plot()\n",
    "#plt.show()\n",
    "\n",
    "NAO_reg['regression_NAO_djf'].plot()\n",
    "plt.show()\n",
    "#NAO_reg_mean['regression_NAO_djf'].plot()\n",
    "#plt.show()\n",
    "#(NAO_reg['regression_NAO_djf']-NAO_reg_mean['regression_NAO_djf']).plot()\n",
    "#plt.show()"
   ]
  },
  {
   "cell_type": "code",
   "execution_count": null,
   "id": "6f5bbf5c-68ea-4251-88e3-e2cced404b1a",
   "metadata": {},
   "outputs": [],
   "source": []
  },
  {
   "cell_type": "code",
   "execution_count": null,
   "id": "d17704c2-f71e-45e8-8139-09b90f8551a1",
   "metadata": {},
   "outputs": [
    {
     "name": "stdout",
     "output_type": "stream",
     "text": [
      "['HadGEM3-GC31-LL']\n",
      "Calculating the regression map for model: HadGEM3-GC31-LL\n",
      "calculating indiv reg maps\n",
      "calculating the mean regression map\n",
      "calculating indiv reg maps\n"
     ]
    }
   ],
   "source": [
    "#notes find a way to update period so its nicer.\n",
    "#also could fix folder so that I use like a home dir etc.\n",
    "#anomalies have already been calculated separetly for each model so preusming they are all correct this should run?...\n",
    "home = '/gws/nopw/j04/extant/users/slbennie/'\n",
    "\n",
    "\n",
    "variable = 'psl'\n",
    "period = '1850-2015'\n",
    "experiments = ['historical']#, 'hist-aer','hist-GHG']#, 'hist-sol', 'hist-vol']\n",
    "model = ['HadGEM3-GC31-LL']\n",
    "modes = ['NAO', 'EA']\n",
    "seas = 'DJF'\n",
    "\n",
    "\n",
    "for e in experiments:\n",
    "    #model = get_models_for_experiment(e)\n",
    "    print(model)\n",
    "    for m in model:\n",
    "        if e == 'historical':\n",
    "            #REGRESSION MAPS\n",
    "            print('Calculating the regression map for model:', m)\n",
    "            \n",
    "            #path to the folder containing historical experiment and model's psl anomalies (calculated seperatly)\n",
    "            folder_path = f'{home}psl_anomalies/historical/{m}/'\n",
    "        \n",
    "            #creating the list of files for this experiment and model's psl anomalies\n",
    "            ens_files = [os.path.join(folder_path, filename) for filename in os.listdir(folder_path) if m in filename and '_EM' not in filename]\n",
    "            #print(ens_files)\n",
    "            \n",
    "            calculate_regression_map(ens_files, modes[0], 'historical', m, period, individual=True)\n",
    "            calculate_regression_map(ens_files, modes[1], 'historical', m, period, individual=True)"
   ]
  },
  {
   "cell_type": "code",
   "execution_count": 1,
   "id": "335d5fda-ce6f-4289-a128-ec3660029813",
   "metadata": {},
   "outputs": [
    {
     "name": "stdout",
     "output_type": "stream",
     "text": [
      "Calculating the projection of the forced trend onto historical regression map calculated from all ensembles: historical\n"
     ]
    },
    {
     "ename": "NameError",
     "evalue": "name 'xr' is not defined",
     "output_type": "error",
     "traceback": [
      "\u001b[31m---------------------------------------------------------------------------\u001b[39m",
      "\u001b[31mNameError\u001b[39m                                 Traceback (most recent call last)",
      "\u001b[36mCell\u001b[39m\u001b[36m \u001b[39m\u001b[32mIn[1]\u001b[39m\u001b[32m, line 4\u001b[39m\n\u001b[32m      1\u001b[39m \u001b[38;5;66;03m#PROJECTION\u001b[39;00m\n\u001b[32m      2\u001b[39m \u001b[38;5;28mprint\u001b[39m(\u001b[33m\"\u001b[39m\u001b[33mCalculating the projection of the forced trend onto historical regression map calculated from all ensembles: historical\u001b[39m\u001b[33m\"\u001b[39m)\n\u001b[32m----> \u001b[39m\u001b[32m4\u001b[39m regression_NAO = \u001b[43mxr\u001b[49m.open_dataset(\u001b[33mf\u001b[39m\u001b[33m'\u001b[39m\u001b[38;5;132;01m{\u001b[39;00mhome\u001b[38;5;132;01m}\u001b[39;00m\u001b[33mregression_patterns/\u001b[39m\u001b[38;5;132;01m{\u001b[39;00mmodes[\u001b[32m0\u001b[39m]\u001b[38;5;132;01m}\u001b[39;00m\u001b[33m/historical/HadGEM3-GC31-LL/\u001b[39m\u001b[38;5;132;01m{\u001b[39;00mvariable\u001b[38;5;132;01m}\u001b[39;00m\u001b[33m_mon_historical_HadGEM3-GC31-LL_\u001b[39m\u001b[38;5;132;01m{\u001b[39;00mseas\u001b[38;5;132;01m}\u001b[39;00m\u001b[33m_\u001b[39m\u001b[38;5;132;01m{\u001b[39;00mmodes[\u001b[32m0\u001b[39m]\u001b[38;5;132;01m}\u001b[39;00m\u001b[33m_regression_map_\u001b[39m\u001b[38;5;132;01m{\u001b[39;00mperiod\u001b[38;5;132;01m}\u001b[39;00m\u001b[33m.nc\u001b[39m\u001b[33m'\u001b[39m)\n\u001b[32m      5\u001b[39m \u001b[38;5;66;03m#regression_EA = xr.open_dataset(f'{home}regression_patterns/{modes[0]}/historical/HadGEM3-GC31-LL/{variable}_mon_historical_HadGEM3-GC31-LL_{seas}_{modes[1]}_EOF_pattern_{period}.nc')\u001b[39;00m\n\u001b[32m      6\u001b[39m \n\u001b[32m      7\u001b[39m \u001b[38;5;66;03m#now setting up the folder path to get the file names for each experiment's model's forced response's trend\u001b[39;00m\n\u001b[32m      8\u001b[39m folder_path = \u001b[33mf\u001b[39m\u001b[33m'\u001b[39m\u001b[38;5;132;01m{\u001b[39;00mhome\u001b[38;5;132;01m}\u001b[39;00m\u001b[33mtrend_calc_LESFMIP/linear_regression/NAO/historical/HadGEM3-GC31-LL/\u001b[39m\u001b[33m'\u001b[39m\n",
      "\u001b[31mNameError\u001b[39m: name 'xr' is not defined"
     ]
    }
   ],
   "source": [
    "#PROJECTION\n",
    "print(\"Calculating the projection of the forced trend onto historical regression map calculated from all ensembles: historical\")\n",
    "\n",
    "regression_NAO = xr.open_dataset(f'{home}regression_patterns/{modes[0]}/historical/HadGEM3-GC31-LL/{variable}_mon_historical_HadGEM3-GC31-LL_{seas}_{modes[0]}_regression_map_{period}.nc')\n",
    "#regression_EA = xr.open_dataset(f'{home}regression_patterns/{modes[0]}/historical/HadGEM3-GC31-LL/{variable}_mon_historical_HadGEM3-GC31-LL_{seas}_{modes[1]}_EOF_pattern_{period}.nc')\n",
    "\n",
    "#now setting up the folder path to get the file names for each experiment's model's forced response's trend\n",
    "folder_path = f'{home}trend_calc_LESFMIP/linear_regression/NAO/historical/HadGEM3-GC31-LL/'\n",
    "            \n",
    "#Getting the list of file names within the models folder, should only be one trend per model (working off the ensemble means for each model)\n",
    "ens_files = [os.path.join(folder_path, filename) for filename in os.listdir(folder_path) if 'HadGEM3-GC31-LL' in filename and period in filename]\n",
    "#print(ens_files[0], len(ens_files), output_file)\n",
    "            \n",
    "for i in range(0,len(ens_files)):\n",
    "    #cropping each trend to just the NA sector and whichever time\n",
    "    trend = open_cropNA_unitshPA(ens_files[i])#, 1850,2014)\n",
    "    \n",
    "    #multiplying the trend by 165 to convert to units of hPa (currently in units of hPa/year, trend calculated between 1850-2015)\n",
    "    trend = trend * 165\n",
    "            \n",
    "    #calling the projection functions\n",
    "    proj_NAO, residual_NAO = project_onto_regression(trend, regression_NAO['regression_NAO_djf'], 'slope', 'NAO', 'historical', 'HadGEM3-GC31-LL', period)\n",
    "#    proj_EA, residual_EA = project_onto_regression(residual_NAO, regression_EA['regression_EA_djf'], 'residual_NAO_djf', 'EA', 'histrocail', 'HadGEM3-GC31-LL', period)"
   ]
  },
  {
   "cell_type": "code",
   "execution_count": 7,
   "id": "edd8258f-8442-4225-9345-1ac7802a79c1",
   "metadata": {},
   "outputs": [
    {
     "data": {
      "image/png": "[encoded data removed]",
      "text/plain": [
       "<Figure size 640x480 with 2 Axes>"
      ]
     },
     "metadata": {},
     "output_type": "display_data"
    },
    {
     "data": {
      "image/png": "[encoded data removed]",
      "text/plain": [
       "<Figure size 640x480 with 2 Axes>"
      ]
     },
     "metadata": {},
     "output_type": "display_data"
    }
   ],
   "source": [
    "ds = xr.open_dataset('/gws/nopw/j04/extant/users/slbennie/regression_patterns/NAO/historical/HadGEM3-GC31-LL/psl_mon_historical_HadGEM3-GC31-LL_r11i1p1f3_DJF_NAO_EOF_1850-2015.nc')\n",
    "ds['EOF_NAO_djf'].plot()\n",
    "plt.show()\n",
    "ds = xr.open_dataset('/gws/nopw/j04/extant/users/slbennie/regression_patterns/EA/historical/HadGEM3-GC31-LL/psl_mon_historical_HadGEM3-GC31-LL_r11i1p1f3_DJF_EA_EOF_1850-2015.nc')\n",
    "ds['EOF_EA_djf'].plot()\n",
    "plt.show()"
   ]
  },
  {
   "cell_type": "code",
   "execution_count": 11,
   "id": "caf8da78-d5f8-46a2-a356-4ed43788d008",
   "metadata": {},
   "outputs": [
    {
     "name": "stdout",
     "output_type": "stream",
     "text": [
      "['HadGEM3-GC31-LL']\n",
      "Calculating the regression map for model: HadGEM3-GC31-LL\n",
      "calculating indiv reg maps\n",
      "Shape of all_anomalies_stacked: (9075, 25, 53)\n",
      "Correlation between PC1 and PC2: 5.16815302624715e-17\n",
      "Gram matrix of PCs:\n",
      " [[9.07400000e+03 4.58300065e-13]\n",
      " [4.58300065e-13 9.07400000e+03]]\n",
      "Inner product: -2.776e-17, Cosine similarity: -2.776e-17\n"
     ]
    }
   ],
   "source": [
    "#also could fix folder so that I use like a home dir etc.\n",
    "#anomalies have already been calculated separetly for each model so preusming they are all correct this should run?...\n",
    "home = '/gws/nopw/j04/extant/users/slbennie/'\n",
    "\n",
    "\n",
    "variable = 'psl'\n",
    "period = '1850-2015'\n",
    "experiments = ['historical']#, 'hist-aer','hist-GHG']#, 'hist-sol', 'hist-vol']\n",
    "model = ['HadGEM3-GC31-LL']\n",
    "modes = ['NAO', 'EA']\n",
    "seas = 'DJF'\n",
    "\n",
    "\n",
    "for e in experiments:\n",
    "    #model = get_models_for_experiment(e)\n",
    "    print(model)\n",
    "    for m in model:\n",
    "        if e == 'historical':\n",
    "            #REGRESSION MAPS\n",
    "            print('Calculating the regression map for model:', m)\n",
    "            \n",
    "            #path to the folder containing historical experiment and model's psl anomalies (calculated seperatly)\n",
    "            folder_path = f'{home}psl_anomalies/historical/{m}/'\n",
    "        \n",
    "            #creating the list of files for this experiment and model's psl anomalies\n",
    "            ens_files = [os.path.join(folder_path, filename) for filename in os.listdir(folder_path) if m in filename and '_EM' not in filename]\n",
    "            #print(ens_files)\n",
    "            \n",
    "            EOF = calculate_regression_map(ens_files, modes[0], 'historical', m, period, individual=False)\n",
    "        \n",
    "        #opening historical regression maps (mean) for use later - one per model. Use historical for all experiments.\n",
    "        #EOF = xr.open_dataset(f'{home}regression_patterns/concatenating/{variable}_mon_historical_{m}_{seas}_EOF_pattern_concat_{period}.nc')\n"
   ]
  },
  {
   "cell_type": "code",
   "execution_count": 15,
   "id": "269d6483-414a-4763-872f-5a40aa501951",
   "metadata": {},
   "outputs": [
    {
     "name": "stdout",
     "output_type": "stream",
     "text": [
      "-0.000987365196487372 -0.0010232375057067286\n"
     ]
    }
   ],
   "source": [
    "def weighted_inner(EOF1, EOF2):\n",
    "    \"\"\"\n",
    "    Compute weighted inner product between two EOFs (DataArrays lat x lon)\n",
    "    \"\"\"\n",
    "    inner = (EOF1 * EOF2).sum(dim=('lat','lon'))\n",
    "    norm1 = np.sqrt((EOF1**2).sum(dim=('lat','lon')))\n",
    "    norm2 = np.sqrt((EOF2**2).sum(dim=('lat','lon')))\n",
    "    cos_sim = inner / (norm1 * norm2)\n",
    "    return float(inner), float(cos_sim)\n",
    "\n",
    "EOF_NAO = xr.open_dataset('/gws/nopw/j04/extant/users/slbennie/regression_patterns/NAO/historical/HadGEM3-GC31-LL/psl_mon_historical_HadGEM3-GC31-LL_DJF_NAO_EOF_pattern_'+period+'.nc')['EOF_NAO_djf']\n",
    "EOF_EA = xr.open_dataset('/gws/nopw/j04/extant/users/slbennie/regression_patterns/EA/historical/HadGEM3-GC31-LL/psl_mon_historical_HadGEM3-GC31-LL_DJF_EA_EOF_pattern_'+period+'.nc')['EOF_EA_djf']\n",
    "\n",
    "inner, cos_sim = weighted_inner(EOF_NAO, EOF_EA)\n",
    "print(inner, cos_sim)"
   ]
  },
  {
   "cell_type": "code",
   "execution_count": 46,
   "id": "b6c558b4-a2a3-44f5-bde1-39942ac69643",
   "metadata": {},
   "outputs": [
    {
     "name": "stdout",
     "output_type": "stream",
     "text": [
      "Modes 0 & 1 → inner product: 0.0526, cosine similarity: 0.0701\n",
      "[[1.         0.07010902]\n",
      " [0.07010902 1.        ]]\n",
      "EOF lat shape: (25,)\n",
      "Original grid lat shape: (71,)\n",
      "EOF latitudes: [20.  22.5 25.  27.5 30.  32.5 35.  37.5 40.  42.5 45.  47.5 50.  52.5\n",
      " 55.  57.5 60.  62.5 65.  67.5 70.  72.5 75.  77.5 80. ]\n",
      "Original latitudes: [-87.5 -85.  -82.5 -80.  -77.5 -75.  -72.5 -70.  -67.5 -65.  -62.5 -60.\n",
      " -57.5 -55.  -52.5 -50.  -47.5 -45.  -42.5 -40.  -37.5 -35.  -32.5 -30.\n",
      " -27.5 -25.  -22.5 -20.  -17.5 -15.  -12.5 -10.   -7.5  -5.   -2.5   0.\n",
      "   2.5   5.    7.5  10.   12.5  15.   17.5  20.   22.5  25.   27.5  30.\n",
      "  32.5  35.   37.5  40.   42.5  45.   47.5  50.   52.5  55.   57.5  60.\n",
      "  62.5  65.   67.5  70.   72.5  75.   77.5  80.   82.5  85.   87.5]\n"
     ]
    },
    {
     "data": {
      "image/png": "[encoded data removed]",
      "text/plain": [
       "<Figure size 640x480 with 1 Axes>"
      ]
     },
     "metadata": {},
     "output_type": "display_data"
    }
   ],
   "source": [
    "# Compute area weights\n",
    "coslat = np.cos(np.deg2rad(EOF['lat'].values))\n",
    "wgts = np.sqrt(coslat)[..., np.newaxis]  # shape (lat,1) for broadcasting\n",
    "\n",
    "def weighted_inner(EOF1, EOF2):\n",
    "    \"\"\"\n",
    "    Compute weighted inner product between two EOFs (DataArrays lat x lon)\n",
    "    \"\"\"\n",
    "    inner = (EOF1 * EOF2).sum(dim=('lat','lon'))\n",
    "    norm1 = np.sqrt((EOF1**2).sum(dim=('lat','lon')))\n",
    "    norm2 = np.sqrt((EOF2**2).sum(dim=('lat','lon')))\n",
    "    cos_sim = inner / (norm1 * norm2)\n",
    "    return float(inner), float(cos_sim)\n",
    "\n",
    "n_modes = EOF.sizes['mode']\n",
    "\n",
    "for i in range(n_modes):\n",
    "    for j in range(i+1, n_modes):\n",
    "        inner, cos_sim = weighted_inner(EOF[i], EOF[j], wgts)\n",
    "        print(f\"Modes {i} & {j} → inner product: {inner:.4f}, cosine similarity: {cos_sim:.4f}\")\n",
    "\n",
    "cos_sim_matrix = np.zeros((n_modes, n_modes))\n",
    "for i in range(n_modes):\n",
    "    for j in range(n_modes):\n",
    "        _, cos_sim_matrix[i,j] = weighted_inner(EOF[i], EOF[j], wgts)\n",
    "print(cos_sim_matrix)\n",
    "\n",
    "data = xr.open_dataset('/gws/nopw/j04/extant/users/slbennie/psl_anomalies/historical/HadGEM3-GC31-LL/psl_mon_historical_HadGEM3-GC31-LL_r60i1p1f3_DJF_anomaly.nc')\n",
    "\n",
    "#checking the lat grid\n",
    "print(\"EOF lat shape:\", EOF['lat'].shape)\n",
    "print(\"Original grid lat shape:\", data['lat'].shape)\n",
    "print(\"EOF latitudes:\", EOF['lat'].values)\n",
    "print(\"Original latitudes:\", data['lat'].values)\n",
    "#np.allclose(EOF['lat'].values, data['lat'].values)\n",
    "#lat_diff = np.diff(EOF['lat'].values)\n",
    "#print(\"Min/Max latitude spacing:\", lat_diff.min(), lat_diff.max())\n",
    "\n",
    "import matplotlib.pyplot as plt\n",
    "\n",
    "plt.plot(EOF['lat'].values, 'o-', label='EOF lat')\n",
    "plt.plot(data['lat'].values, 'x-', label='Original lat')\n",
    "plt.legend()\n",
    "plt.show()\n",
    "\n"
   ]
  },
  {
   "cell_type": "code",
   "execution_count": 16,
   "id": "6405f319-8a3b-4856-9f2f-b2eea32577ef",
   "metadata": {},
   "outputs": [
    {
     "name": "stdout",
     "output_type": "stream",
     "text": [
      "calculating the mean regression map\n"
     ]
    }
   ],
   "source": [
    "#now calculating the ensemble mean - need to update ens_files to the individual regression maps.\n",
    "print('calculating the mean regression map')\n",
    "folder_path = '/gws/nopw/j04/extant/users/slbennie/regression_patterns/NAO/historical/HadGEM3-GC31-LL'\n",
    "NAO_files = [os.path.join(folder_path, filename) for filename in os.listdir(folder_path) if 'EOF' in filename]\n",
    "\n",
    "folder_path = '/gws/nopw/j04/extant/users/slbennie/regression_patterns/EA/historical/HadGEM3-GC31-LL'\n",
    "EA_files = [os.path.join(folder_path, filename) for filename in os.listdir(folder_path) if 'EOF' in filename]\n",
    "\n",
    "\n",
    "#opening each ensemble file and storing in one multi-dim array with new dimension ensemble as well as prev lat, lons.\n",
    "#ds_reg = xr.open_mfdataset(ens_files_reg, concat_dim='ensemble', combine='nested')\n",
    "ds_EOF_NAO = xr.open_mfdataset(NAO_files, concat_dim='ensemble', combine='nested')\n",
    "ds_EOF_EA = xr.open_mfdataset(EA_files, concat_dim='ensemble', combine='nested')\n",
    "\n",
    "#extracting the nao regression data\n",
    "#regression_pattern = ds_reg[f'regression_{mode}_djf']\n",
    "EOF_pattern_NAO = ds_EOF_NAO['EOF_NAO_djf']\n",
    "EOF_pattern_EA = ds_EOF_EA['EOF_EA_djf']\n",
    "\n",
    "#extracting the max and min from the ensemble spread\n",
    "#mean_regression = regression_pattern.mean(dim='ensemble')\n",
    "mean_EOF_NAO = EOF_pattern_NAO.mean(dim='ensemble')\n",
    "mean_EOF_EA = EOF_pattern_EA.mean(dim='ensemble')\n",
    "\n",
    "output_EOF_NAO = '/gws/nopw/j04/extant/users/slbennie/regression_patterns/NAO/historical/HadGEM3-GC31-LL/psl_mon_historical_HadGEM3-GC31-LL_DJF_NAO_EOF_pattern_'+period+'.nc'\n",
    "output_EOF_EA = '/gws/nopw/j04/extant/users/slbennie/regression_patterns/EA/historical/HadGEM3-GC31-LL/psl_mon_historical_HadGEM3-GC31-LL_DJF_EA_EOF_pattern_'+period+'.nc'\n",
    "        \n",
    "#mean_regression.to_netcdf(output_regression_map)\n",
    "mean_EOF_NAO.to_netcdf(output_EOF_NAO)\n",
    "mean_EOF_EA.to_netcdf(output_EOF_EA)"
   ]
  },
  {
   "cell_type": "code",
   "execution_count": 21,
   "id": "45ed203e-1d3b-476b-88f9-12d9bd504bef",
   "metadata": {},
   "outputs": [
    {
     "name": "stdout",
     "output_type": "stream",
     "text": [
      "Weighted inner product: 0.05261334731546671\n",
      "Cosine similarity: 0.07010901597109806\n"
     ]
    }
   ],
   "source": [
    "import numpy as np\n",
    "import xarray as xr\n",
    "\n",
    "def check_orthogonality(EOF1, EOF2):\n",
    "    # Extract as DataArray (assume only one variable inside each dataset)\n",
    "    da1 = EOF1.to_array().squeeze()\n",
    "    da2 = EOF2.to_array().squeeze()\n",
    "\n",
    "    # Compute weights (area weighting consistent with your solver)\n",
    "    wgts = np.sqrt(np.cos(np.deg2rad(da1.lat)))\n",
    "    wgts_2d = wgts.broadcast_like(da1)\n",
    "\n",
    "    # Inner product\n",
    "    inner = (da1 * da2 * wgts_2d).sum(dim=('lat','lon'))\n",
    "\n",
    "    # Norms\n",
    "    norm1 = np.sqrt((da1**2 * wgts_2d).sum(dim=('lat','lon')))\n",
    "    norm2 = np.sqrt((da2**2 * wgts_2d).sum(dim=('lat','lon')))\n",
    "\n",
    "    # Cosine similarity\n",
    "    cos_sim = inner / (norm1 * norm2)\n",
    "\n",
    "    return float(inner.values), float(cos_sim.values)\n",
    "\n",
    "# Example usage:\n",
    "NAO = xr.open_dataset(f'{home}regression_patterns/concatenating/{variable}_mon_historical_{m}_{seas}_NAO_EOF_pattern_concat_{period}.nc')\n",
    "EA  = xr.open_dataset(f'{home}regression_patterns/concatenating/{variable}_mon_historical_{m}_{seas}_EA_EOF_pattern_concat_{period}.nc')\n",
    "\n",
    "inner, cos_sim = check_orthogonality(NAO, EA)\n",
    "\n",
    "print(\"Weighted inner product:\", inner)\n",
    "print(\"Cosine similarity:\", cos_sim)\n"
   ]
  },
  {
   "cell_type": "code",
   "execution_count": 37,
   "id": "73924d50-f3e2-49a1-ab0f-3d58975c1d66",
   "metadata": {},
   "outputs": [
    {
     "name": "stdout",
     "output_type": "stream",
     "text": [
      "Modes 0 & 1 → inner product: 0.0526, cosine similarity: 0.0701\n"
     ]
    }
   ],
   "source": [
    "EOFs = xr.open_dataarray(f'{home}regression_patterns/concatenating/{variable}_mon_historical_{m}_{seas}_EOF_pattern_concat_{period}.nc')\n",
    "\n",
    "# Compute area weights\n",
    "coslat = np.cos(np.deg2rad(EOFs['lat'].values))\n",
    "wgts = np.sqrt(coslat)[..., np.newaxis]  # shape (lat,1) for broadcasting\n",
    "\n",
    "def weighted_inner(EOF1, EOF2, wgts):\n",
    "    \"\"\"\n",
    "    Compute weighted inner product between two EOFs (DataArrays lat x lon)\n",
    "    \"\"\"\n",
    "    inner = (EOF1 * EOF2 * wgts).sum(dim=('lat','lon'))\n",
    "    norm1 = np.sqrt((EOF1**2 * wgts).sum(dim=('lat','lon')))\n",
    "    norm2 = np.sqrt((EOF2**2 * wgts).sum(dim=('lat','lon')))\n",
    "    cos_sim = inner / (norm1 * norm2)\n",
    "    return float(inner), float(cos_sim)\n",
    "\n",
    "n_modes = EOFs.sizes['mode']\n",
    "\n",
    "for i in range(n_modes):\n",
    "    for j in range(i+1, n_modes):\n",
    "        inner, cos_sim = weighted_inner(EOFs[i], EOFs[j], wgts)\n",
    "        print(f\"Modes {i} & {j} → inner product: {inner:.4f}, cosine similarity: {cos_sim:.4f}\")\n",
    "\n"
   ]
  },
  {
   "cell_type": "code",
   "execution_count": 28,
   "id": "ae051273-b20d-4be9-8d7a-85a0c682d243",
   "metadata": {},
   "outputs": [
    {
     "name": "stdout",
     "output_type": "stream",
     "text": [
      "Weighted inner product: 0.05261334731546671\n",
      "Cosine similarity: 0.07010901597109806\n"
     ]
    }
   ],
   "source": [
    "EOF_NAO = xr.open_dataset(f'{home}regression_patterns/concatenating/{variable}_mon_historical_{m}_{seas}_NAO_EOF_pattern_concat_{period}.nc')['EOF_NAO_djf']\n",
    "EOF_EA  = xr.open_dataset(f'{home}regression_patterns/concatenating/{variable}_mon_historical_{m}_{seas}_EA_EOF_pattern_concat_{period}.nc')['EOF_EA_djf']\n",
    "\n",
    "import numpy as np\n",
    "import xarray as xr\n",
    "\n",
    "def check_orthogonality_eofs(EOF1, EOF2):\n",
    "    \"\"\"\n",
    "    Check orthogonality of two EOFs using area weighting.\n",
    "    \n",
    "    EOF1, EOF2 : xarray.DataArray\n",
    "        EOF patterns with dimensions (lat, lon)\n",
    "    \n",
    "    Returns\n",
    "    -------\n",
    "    inner : float\n",
    "        Weighted inner product\n",
    "    cos_sim : float\n",
    "        Cosine similarity between EOF1 and EOF2\n",
    "    \"\"\"\n",
    "    # Compute latitude weights (sqrt of cos(lat) for consistency with solver)\n",
    "    coslat = np.cos(np.deg2rad(EOF1['lat'].values))\n",
    "    wgts = np.sqrt(coslat)[..., np.newaxis]  # (lat, 1) for broadcasting\n",
    "    \n",
    "    # Weighted inner product\n",
    "    inner = (EOF1 * EOF2 * wgts).sum(dim=('lat','lon'))\n",
    "    \n",
    "    # Weighted norms\n",
    "    norm1 = np.sqrt((EOF1**2 * wgts).sum(dim=('lat','lon')))\n",
    "    norm2 = np.sqrt((EOF2**2 * wgts).sum(dim=('lat','lon')))\n",
    "    \n",
    "    # Cosine similarity\n",
    "    cos_sim = inner / (norm1 * norm2)\n",
    "    \n",
    "    return float(inner.item()), float(cos_sim.item())\n",
    "\n",
    "# Example usage:\n",
    "inner, cos_sim = check_orthogonality_eofs(EOF_NAO, EOF_EA)\n",
    "print(\"Weighted inner product:\", inner)\n",
    "print(\"Cosine similarity:\", cos_sim)\n"
   ]
  },
  {
   "cell_type": "code",
   "execution_count": null,
   "id": "01d4f30c-0121-46f1-9037-a17afb35fc78",
   "metadata": {},
   "outputs": [],
   "source": []
  }
 ],
 "metadata": {
  "kernelspec": {
   "display_name": "Python 3 + Jaspy",
   "language": "python",
   "name": "jaspy"
  },
  "language_info": {
   "codemirror_mode": {
    "name": "ipython",
    "version": 3
   },
   "file_extension": ".py",
   "mimetype": "text/x-python",
   "name": "python",
   "nbconvert_exporter": "python",
   "pygments_lexer": "ipython3",
   "version": "3.11.9"
  }
 },
 "nbformat": 4,
 "nbformat_minor": 5
}
